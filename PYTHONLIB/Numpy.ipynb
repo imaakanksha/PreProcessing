{
 "cells": [
  {
   "cell_type": "markdown",
   "metadata": {},
   "source": [
    "NumPy (Numerical Python) is a core library in Python for numerical computations. It provides support for arrays, matrices, and high-level mathematical functions to operate on these structures efficiently.\n"
   ]
  },
  {
   "cell_type": "markdown",
   "metadata": {},
   "source": [
    "NumPy\n",
    "\n",
    "Purpose: Numerical computations and array operations.\n",
    "\n",
    "Why Use It?\n",
    "\n",
    "Python’s built-in lists are versatile but slow for mathematical operations. NumPy provides multi-dimensional arrays (like matrices) that are highly efficient for computation.\n",
    "It includes functions for mathematical operations, linear algebra, random number generation, and more.\n",
    "\n",
    "Key Features:\n",
    "\n",
    "Arrays: A replacement for Python lists, with better performance.\n",
    "Mathematical operations: Perform element-wise operations, matrix multiplication, etc.\n",
    "Built-in functions: For mathematical, statistical, and logical operations."
   ]
  },
  {
   "cell_type": "code",
   "execution_count": null,
   "metadata": {},
   "outputs": [
    {
     "name": "stdout",
     "output_type": "stream",
     "text": [
      "[11 12 42 14 15 16 17]\n",
      "[ 0  1 31  3  4  5  6]\n",
      "[ 2  4 64  8 10 12 14]\n",
      "[ 0.5  1.  16.   2.   2.5  3.   3.5]\n",
      "[ 1  2 32  4  5  6  7]\n",
      "8.142857142857142\n"
     ]
    }
   ],
   "source": [
    "#pip install numpy\n",
    "\n",
    "import numpy as np\n",
    "#Create an array\n",
    "arr = np.array([1,2,32,4,5,6,7])\n",
    "#Perform Operations\n",
    "print(arr+10)\n",
    "print(arr-1)\n",
    "print(arr*2)\n",
    "print(arr/2)\n",
    "print(arr)\n",
    "print(arr.mean())"
   ]
  },
  {
   "cell_type": "code",
   "execution_count": 7,
   "metadata": {},
   "outputs": [
    {
     "name": "stdout",
     "output_type": "stream",
     "text": [
      "[[2 4]\n",
      " [6 8]]\n"
     ]
    }
   ],
   "source": [
    "#Create a 2D Array\n",
    "matrix=np.array([[1,2],[3,4]])\n",
    "print(matrix * 2) #Element wise Multiplication"
   ]
  },
  {
   "cell_type": "code",
   "execution_count": 10,
   "metadata": {},
   "outputs": [
    {
     "name": "stdout",
     "output_type": "stream",
     "text": [
      "[[0. 0. 0.]\n",
      " [0. 0. 0.]]\n",
      "[[1. 1. 1.]\n",
      " [1. 1. 1.]\n",
      " [1. 1. 1.]]\n",
      "[[1.e-323 2.e-323]\n",
      " [3.e-323 4.e-323]]\n"
     ]
    }
   ],
   "source": [
    "#Zeros, Ones and Empty Arrays\n",
    "zeros = np.zeros((2,3))\n",
    "ones=np.ones((3,3))\n",
    "empty=np.empty((2,2))\n",
    "print(zeros)\n",
    "print(ones)\n",
    "print(empty)"
   ]
  },
  {
   "cell_type": "code",
   "execution_count": 19,
   "metadata": {},
   "outputs": [
    {
     "name": "stdout",
     "output_type": "stream",
     "text": [
      "[0 2 4 6 8]\n",
      "[0.   0.25 0.5  0.75 1.  ]\n"
     ]
    }
   ],
   "source": [
    "#Arrange and Linespace\n",
    "arange = np.arange(0,10,2)\n",
    "print(arange)\n",
    "linspace = np.linspace(0,1,5)\n",
    "print(linspace)"
   ]
  },
  {
   "cell_type": "code",
   "execution_count": 22,
   "metadata": {},
   "outputs": [
    {
     "name": "stdout",
     "output_type": "stream",
     "text": [
      "(2, 3)\n",
      "6\n",
      "2\n",
      "int64\n"
     ]
    }
   ],
   "source": [
    "#Array Attributes and Operations\n",
    "#Attributes\n",
    "arr = np.array([[1,2,3],[4,5,6]])\n",
    "print(arr.shape)\n",
    "print(arr.size)\n",
    "print(arr.ndim)\n",
    "print(arr.dtype)"
   ]
  },
  {
   "cell_type": "code",
   "execution_count": 24,
   "metadata": {},
   "outputs": [
    {
     "name": "stdout",
     "output_type": "stream",
     "text": [
      "[10 12  9]\n",
      "[16 27 20]\n",
      "[-6 -6  1]\n",
      "[0.25       0.33333333 1.25      ]\n"
     ]
    }
   ],
   "source": [
    "#Array Operations\n",
    "#Arithmetic Operation\n",
    "arr1=np.array([2,3,5])\n",
    "arr2=np.array([8,9,4])\n",
    "print(arr1+arr2)\n",
    "print(arr1*arr2)\n",
    "print(arr1-arr2)\n",
    "print(arr1/arr2)"
   ]
  },
  {
   "cell_type": "code",
   "execution_count": 26,
   "metadata": {},
   "outputs": [
    {
     "name": "stdout",
     "output_type": "stream",
     "text": [
      "12\n",
      "3.0\n",
      "1.5811388300841898\n"
     ]
    }
   ],
   "source": [
    "#Statistical Operations\n",
    "arr = np.array([[1,2],[4,5]])\n",
    "print(arr.sum())\n",
    "print(arr.mean())\n",
    "print(arr.std())\n"
   ]
  },
  {
   "cell_type": "code",
   "execution_count": 28,
   "metadata": {},
   "outputs": [
    {
     "name": "stdout",
     "output_type": "stream",
     "text": [
      "[2 3 4]\n"
     ]
    }
   ],
   "source": [
    "#Indexing and Slicing\n",
    "arr = np.array([1,2,3,4,5,6,7,8,9])\n",
    "print(arr[1:4])"
   ]
  },
  {
   "cell_type": "code",
   "execution_count": 30,
   "metadata": {},
   "outputs": [
    {
     "name": "stdout",
     "output_type": "stream",
     "text": [
      "[[2 3 4]\n",
      " [3 4 5]\n",
      " [4 5 6]]\n"
     ]
    }
   ],
   "source": [
    "#Advanced Concepts\n",
    "#Broadcasting : Allows arithmetic operations on arrays of different shapes.\n",
    "\n",
    "a = np.array([1,2,3])\n",
    "b = np.array([[1],[2],[3]])\n",
    "print(a+b)"
   ]
  },
  {
   "cell_type": "code",
   "execution_count": 33,
   "metadata": {},
   "outputs": [
    {
     "name": "stdout",
     "output_type": "stream",
     "text": [
      "[[0 1 2 3]\n",
      " [4 5 6 7]]\n",
      "[0 1 2 3 4 5 6 7]\n"
     ]
    }
   ],
   "source": [
    "#Reshaping\n",
    "arr = np.arange(8)\n",
    "reshaped=arr.reshape(2,4)\n",
    "print(reshaped)\n",
    "print(arr)"
   ]
  },
  {
   "cell_type": "code",
   "execution_count": 36,
   "metadata": {},
   "outputs": [
    {
     "name": "stdout",
     "output_type": "stream",
     "text": [
      "[[1 2]\n",
      " [3 4]]\n",
      "[[1 3]\n",
      " [2 4]]\n"
     ]
    }
   ],
   "source": [
    "#Transpose\n",
    "arr = np.array([[1,2],[3,4]])\n",
    "print(arr)\n",
    "print(arr.T)"
   ]
  },
  {
   "cell_type": "code",
   "execution_count": 48,
   "metadata": {},
   "outputs": [
    {
     "name": "stdout",
     "output_type": "stream",
     "text": [
      "[[0.91051546 0.48632063]\n",
      " [0.28805809 0.99715327]\n",
      " [0.88690737 0.87967904]]\n",
      "[[ 2.00001204  0.26112615]\n",
      " [ 0.56823792  1.19887098]\n",
      " [ 0.99866594 -0.92920103]]\n",
      "[[5 4]\n",
      " [2 2]]\n"
     ]
    }
   ],
   "source": [
    "#Random Number Generation\n",
    "rand = np.random.rand(3,2)\n",
    "print(rand)\n",
    "randn=np.random.randn(3,2)\n",
    "print(randn)\n",
    "integers = np.random.randint(1,10,(2,2))\n",
    "print(integers)"
   ]
  }
 ],
 "metadata": {
  "kernelspec": {
   "display_name": "Python 3",
   "language": "python",
   "name": "python3"
  },
  "language_info": {
   "codemirror_mode": {
    "name": "ipython",
    "version": 3
   },
   "file_extension": ".py",
   "mimetype": "text/x-python",
   "name": "python",
   "nbconvert_exporter": "python",
   "pygments_lexer": "ipython3",
   "version": "3.13.0"
  }
 },
 "nbformat": 4,
 "nbformat_minor": 2
}
