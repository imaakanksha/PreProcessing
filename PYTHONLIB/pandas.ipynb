{
 "cells": [
  {
   "cell_type": "markdown",
   "metadata": {},
   "source": [
    "Pandas is a powerful library for data manipulation and analysis. It is built on top of NumPy and provides data structures like Series and DataFrame to handle structured data efficiently. "
   ]
  },
  {
   "cell_type": "markdown",
   "metadata": {},
   "source": [
    "Pandas\n",
    "\n",
    "Purpose: Data manipulation and analysis.\n",
    "\n",
    "Why Use It?\n",
    "\n",
    "When working with data, we often need to clean, manipulate, and analyze it. Pandas makes these tasks easier by providing two core data structures:\n",
    "\n",
    "Series: 1-dimensional labeled data.\n",
    "\n",
    "DataFrame: 2-dimensional tabular data (like Excel sheets).\n",
    "\n",
    "Key Features:\n",
    "\n",
    "Read/Write data: Import/export CSV, Excel, SQL, JSON, etc.\n",
    "Data cleaning: Handle missing values, filter rows, or modify columns.\n",
    "Data aggregation: Perform group-by operations and summaries.\n"
   ]
  },
  {
   "cell_type": "markdown",
   "metadata": {},
   "source": [
    "#pip install pandas\n",
    "import pandas as pd\n"
   ]
  },
  {
   "cell_type": "code",
   "execution_count": 6,
   "metadata": {},
   "outputs": [
    {
     "name": "stdout",
     "output_type": "stream",
     "text": [
      "0    10\n",
      "1    20\n",
      "2    30\n",
      "3    40\n",
      "dtype: int64\n"
     ]
    }
   ],
   "source": [
    "import pandas as pd\n",
    "#Series :  A one-dimensional labeled array.\n",
    "data = [10,20,30,40]\n",
    "s = pd.Series(data)\n",
    "print(s)"
   ]
  },
  {
   "cell_type": "code",
   "execution_count": 8,
   "metadata": {},
   "outputs": [
    {
     "name": "stdout",
     "output_type": "stream",
     "text": [
      "a    10\n",
      "b    20\n",
      "c    30\n",
      "d    40\n",
      "dtype: int64\n"
     ]
    }
   ],
   "source": [
    "import pandas as pd\n",
    "#Series :  A one-dimensional labeled array.\n",
    "data = [10,20,30,40]\n",
    "s = pd.Series(data,index=['a','b','c','d'])\n",
    "print(s)"
   ]
  },
  {
   "cell_type": "code",
   "execution_count": 10,
   "metadata": {},
   "outputs": [
    {
     "name": "stdout",
     "output_type": "stream",
     "text": [
      "       Name  Age\n",
      "0  Akanksha   22\n",
      "1      Ritu   20\n",
      "2      Raja   21\n",
      "3     Rohan   19\n"
     ]
    }
   ],
   "source": [
    "#DataFrame : A two-dimensional labeled data structure\n",
    "data = {'Name':['Akanksha',\"Ritu\",'Raja','Rohan'], 'Age':[22,20,21,19]}\n",
    "df = pd.DataFrame(data)\n",
    "print(df)"
   ]
  },
  {
   "cell_type": "code",
   "execution_count": 12,
   "metadata": {},
   "outputs": [
    {
     "name": "stdout",
     "output_type": "stream",
     "text": [
      "(4, 2)\n",
      "Index(['Name', 'Age'], dtype='object')\n",
      "RangeIndex(start=0, stop=4, step=1)\n"
     ]
    }
   ],
   "source": [
    "#DataFrame Attributes\n",
    "print(df.shape)\n",
    "print(df.columns)\n",
    "print(df.index)"
   ]
  },
  {
   "cell_type": "code",
   "execution_count": 18,
   "metadata": {},
   "outputs": [
    {
     "name": "stdout",
     "output_type": "stream",
     "text": [
      "0    1\n",
      "1    2\n",
      "2    3\n",
      "Name: A, dtype: int64\n",
      "A    1\n",
      "B    4\n",
      "Name: 0, dtype: int64\n",
      "A    3\n",
      "B    6\n",
      "Name: 2, dtype: int64\n"
     ]
    }
   ],
   "source": [
    "#Indexing and Selections\n",
    "df=pd.DataFrame({'A':[1,2,3], 'B':[4,5,6]})\n",
    "print(df['A']) #Column Selection\n",
    "print(df.loc[0]) #Row Selection by label\n",
    "print(df.iloc[2]) #Row Selection by index"
   ]
  },
  {
   "cell_type": "code",
   "execution_count": 21,
   "metadata": {},
   "outputs": [
    {
     "name": "stdout",
     "output_type": "stream",
     "text": [
      "0    1\n",
      "1    2\n",
      "2    3\n",
      "Name: A, dtype: int64\n",
      "   A  B\n",
      "1  2  5\n",
      "2  3  6\n"
     ]
    }
   ],
   "source": [
    "#Filtering and Boolean Indexing\n",
    "\n",
    "filtered = df[df['A']>1]\n",
    "print(df['A'])\n",
    "print(filtered)"
   ]
  },
  {
   "cell_type": "code",
   "execution_count": 25,
   "metadata": {},
   "outputs": [
    {
     "name": "stdout",
     "output_type": "stream",
     "text": [
      "     A    B\n",
      "0  1.0  4.0\n",
      "1  NaN  5.0\n",
      "2  4.0  NaN\n",
      "     A    B\n",
      "0  1.0  4.0\n",
      "     A    B\n",
      "0  1.0  4.0\n",
      "1  0.0  5.0\n",
      "2  4.0  0.0\n"
     ]
    }
   ],
   "source": [
    "#Pandas for Data Cleaning\n",
    "#Handling Missing Data\n",
    "data = {'A':[1,None,4], 'B':[4,5,None]}\n",
    "df =pd.DataFrame(data)\n",
    "print(df)\n",
    "print(df.dropna()) #Drop rows with missing values\n",
    "print(df.fillna(0)) #Fill the missing values"
   ]
  },
  {
   "cell_type": "code",
   "execution_count": 29,
   "metadata": {},
   "outputs": [
    {
     "name": "stdout",
     "output_type": "stream",
     "text": [
      "   A  B\n",
      "0  1  3\n",
      "1  2  4\n",
      "2  2  4\n",
      "The value of the dataframe after dropping the duplicates.\n",
      "   A  B\n",
      "0  1  3\n",
      "1  2  4\n"
     ]
    }
   ],
   "source": [
    "#Removing Duplicates\n",
    "data = {'A':[1,2,2], 'B':[3,4,4]}\n",
    "df = pd.DataFrame(data)\n",
    "print(df)\n",
    "print(\"The value of the dataframe after dropping the duplicates.\")\n",
    "print(df.drop_duplicates())"
   ]
  },
  {
   "cell_type": "code",
   "execution_count": 31,
   "metadata": {},
   "outputs": [
    {
     "name": "stdout",
     "output_type": "stream",
     "text": [
      "0    1\n",
      "1    2\n",
      "2    2\n",
      "Name: A, dtype: int64\n",
      "0    3\n",
      "1    4\n",
      "2    4\n",
      "Name: B, dtype: int64\n",
      "0    4\n",
      "1    6\n",
      "2    6\n",
      "Name: C, dtype: int64\n"
     ]
    }
   ],
   "source": [
    "#Transformation and Aggregation\n",
    "# Adding Columns\n",
    "df['C'] = df['A']+df['B']\n",
    "print(df['A'])\n",
    "print(df['B'])\n",
    "print(df['C'])"
   ]
  },
  {
   "cell_type": "code",
   "execution_count": 34,
   "metadata": {},
   "outputs": [
    {
     "name": "stdout",
     "output_type": "stream",
     "text": [
      "          Values\n",
      "Category        \n",
      "A              6\n",
      "B              3\n"
     ]
    }
   ],
   "source": [
    "#Grouping Data\n",
    "\n",
    "data = {'Category' : [\"A\", \"A\", \"B\"], 'Values':[1,5,3]}\n",
    "df = pd.DataFrame(data)\n",
    "grouped = df.groupby('Category').sum()\n",
    "print(grouped)\n"
   ]
  },
  {
   "cell_type": "code",
   "execution_count": 39,
   "metadata": {},
   "outputs": [
    {
     "name": "stdout",
     "output_type": "stream",
     "text": [
      "   ID      Name\n",
      "0   1  Akanksha\n",
      "1   2      Saki\n",
      "   ID  Age\n",
      "0   1   20\n",
      "1   2   21\n",
      "   ID      Name  Age\n",
      "0   1  Akanksha   20\n",
      "1   2      Saki   21\n"
     ]
    }
   ],
   "source": [
    "#Advanced Concepts\n",
    "#Merging and Joining\n",
    "df1=pd.DataFrame({'ID' :[1,2], 'Name':['Akanksha','Saki']})\n",
    "df2=pd.DataFrame({'ID':[1,2], 'Age':[20,21]})\n",
    "merged = pd.merge(df1, df2, on='ID')\n",
    "print(df1)\n",
    "print(df2)\n",
    "print(merged)"
   ]
  },
  {
   "cell_type": "code",
   "execution_count": 42,
   "metadata": {},
   "outputs": [
    {
     "name": "stdout",
     "output_type": "stream",
     "text": [
      "          Values\n",
      "Category        \n",
      "A              7\n",
      "B              3\n"
     ]
    }
   ],
   "source": [
    "#Pivot Tables\n",
    "data = {'Category':['A','A','B'], 'Values':[1,6,3]}\n",
    "df = pd.DataFrame(data)\n",
    "pivot = df.pivot_table(values='Values', index='Category', aggfunc='sum')\n",
    "print(pivot)"
   ]
  },
  {
   "cell_type": "code",
   "execution_count": 44,
   "metadata": {},
   "outputs": [
    {
     "data": {
      "text/plain": [
       "<function matplotlib.pyplot.show(close=None, block=None)>"
      ]
     },
     "execution_count": 44,
     "metadata": {},
     "output_type": "execute_result"
    },
    {
     "data": {
      "image/png": "[encoded data removed]",
      "text/plain": [
       "<Figure size 640x480 with 1 Axes>"
      ]
     },
     "metadata": {},
     "output_type": "display_data"
    }
   ],
   "source": [
    "#Visualization with Pandas\n",
    "import matplotlib.pyplot as plt\n",
    "df = pd.DataFrame({'A':[1,2,3], 'B':[4,5,6]})\n",
    "df.plot(kind='bar')\n",
    "plt.show"
   ]
  },
  {
   "cell_type": "code",
   "execution_count": 46,
   "metadata": {},
   "outputs": [
    {
     "data": {
      "text/plain": [
       "<function matplotlib.pyplot.show(close=None, block=None)>"
      ]
     },
     "execution_count": 46,
     "metadata": {},
     "output_type": "execute_result"
    },
    {
     "data": {
      "image/png": "[encoded data removed]",
      "text/plain": [
       "<Figure size 640x480 with 1 Axes>"
      ]
     },
     "metadata": {},
     "output_type": "display_data"
    }
   ],
   "source": [
    "#Visualization with Pandas\n",
    "import matplotlib.pyplot as plt\n",
    "df = pd.DataFrame({'A':[1,2,3], 'B':[4,5,6]})\n",
    "df.plot(kind='area')\n",
    "plt.show"
   ]
  },
  {
   "cell_type": "code",
   "execution_count": 48,
   "metadata": {},
   "outputs": [
    {
     "data": {
      "text/plain": [
       "<function matplotlib.pyplot.show(close=None, block=None)>"
      ]
     },
     "execution_count": 48,
     "metadata": {},
     "output_type": "execute_result"
    },
    {
     "data": {
      "image/png": "[encoded data removed]",
      "text/plain": [
       "<Figure size 640x480 with 1 Axes>"
      ]
     },
     "metadata": {},
     "output_type": "display_data"
    }
   ],
   "source": [
    "#Visualization with Pandas\n",
    "import matplotlib.pyplot as plt\n",
    "df = pd.DataFrame({'A':[1,2,3], 'B':[4,5,6]})\n",
    "df.plot(kind='hist')\n",
    "plt.show"
   ]
  },
  {
   "cell_type": "code",
   "execution_count": 52,
   "metadata": {},
   "outputs": [
    {
     "data": {
      "text/plain": [
       "<function matplotlib.pyplot.show(close=None, block=None)>"
      ]
     },
     "execution_count": 52,
     "metadata": {},
     "output_type": "execute_result"
    },
    {
     "data": {
      "image/png": "[encoded data removed]",
      "text/plain": [
       "<Figure size 640x480 with 1 Axes>"
      ]
     },
     "metadata": {},
     "output_type": "display_data"
    }
   ],
   "source": [
    "#Visualization with Pandas\n",
    "import matplotlib.pyplot as plt\n",
    "df = pd.DataFrame({'A':[1,2,3], 'B':[4,5,6]})\n",
    "df.plot(kind='line')\n",
    "plt.show"
   ]
  },
  {
   "cell_type": "code",
   "execution_count": 54,
   "metadata": {},
   "outputs": [
    {
     "data": {
      "text/plain": [
       "<function matplotlib.pyplot.show(close=None, block=None)>"
      ]
     },
     "execution_count": 54,
     "metadata": {},
     "output_type": "execute_result"
    },
    {
     "data": {
      "image/png": "[encoded data removed]",
      "text/plain": [
       "<Figure size 640x480 with 1 Axes>"
      ]
     },
     "metadata": {},
     "output_type": "display_data"
    }
   ],
   "source": [
    "#Visualization with Pandas\n",
    "import matplotlib.pyplot as plt\n",
    "df = pd.DataFrame({'A':[1,2,3], 'B':[4,5,6]})\n",
    "df.plot(kind='box')\n",
    "plt.show"
   ]
  },
  {
   "cell_type": "code",
   "execution_count": 59,
   "metadata": {},
   "outputs": [
    {
     "name": "stdout",
     "output_type": "stream",
     "text": [
      "<class 'pandas.core.frame.DataFrame'>\n",
      "RangeIndex: 3 entries, 0 to 2\n",
      "Data columns (total 2 columns):\n",
      " #   Column  Non-Null Count  Dtype\n",
      "---  ------  --------------  -----\n",
      " 0   A       3 non-null      int64\n",
      " 1   B       3 non-null      int64\n",
      "dtypes: int64(2)\n",
      "memory usage: 180.0 bytes\n"
     ]
    }
   ],
   "source": [
    "df.describe()\n",
    "df.info()"
   ]
  }
 ],
 "metadata": {
  "kernelspec": {
   "display_name": "Python 3",
   "language": "python",
   "name": "python3"
  },
  "language_info": {
   "codemirror_mode": {
    "name": "ipython",
    "version": 3
   },
   "file_extension": ".py",
   "mimetype": "text/x-python",
   "name": "python",
   "nbconvert_exporter": "python",
   "pygments_lexer": "ipython3",
   "version": "3.13.0"
  }
 },
 "nbformat": 4,
 "nbformat_minor": 2
}
